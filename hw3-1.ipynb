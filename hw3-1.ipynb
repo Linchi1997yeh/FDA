{
  "nbformat": 4,
  "nbformat_minor": 0,
  "metadata": {
    "colab": {
      "name": "hw3-1.ipynb",
      "provenance": [],
      "collapsed_sections": [],
      "toc_visible": true
    },
    "kernelspec": {
      "name": "python3",
      "display_name": "Python 3"
    }
  },
  "cells": [
    {
      "cell_type": "code",
      "metadata": {
        "id": "4H7MbB57a3ig",
        "colab_type": "code",
        "colab": {}
      },
      "source": [
        "import torch\n",
        "import pandas as pd\n",
        "import numpy as np\n",
        "import matplotlib.pyplot as plt\n",
        "from pandas import read_csv\n",
        "from pandas import datetime\n",
        "from matplotlib import pyplot\n",
        "from pandas.plotting import autocorrelation_plot\n",
        "from datetime import datetime\n",
        "from fbprophet import Prophet\n",
        "from sklearn.metrics import mean_squared_error\n",
        "import random\n",
        "import math, time\n",
        "import itertools\n",
        "from sklearn import preprocessing\n",
        "from sklearn.preprocessing import MinMaxScaler\n",
        "from operator import itemgetter\n",
        "from math import sqrt\n",
        "import torch\n",
        "import torch.nn as nn\n",
        "from torch.autograd import Variable"
      ],
      "execution_count": 0,
      "outputs": []
    },
    {
      "cell_type": "code",
      "metadata": {
        "id": "qUwM0emldnk9",
        "colab_type": "code",
        "colab": {}
      },
      "source": [
        "device = 'cpu'\n",
        "if torch.cuda.is_available():\n",
        "  device = 'cuda:0'"
      ],
      "execution_count": 0,
      "outputs": []
    },
    {
      "cell_type": "code",
      "metadata": {
        "id": "tChCMF52a7MY",
        "colab_type": "code",
        "colab": {}
      },
      "source": [
        "train = pd.read_csv(\"/content/drive/My Drive/ML/FDA/HW3/data/SPX500/train.csv\")\n",
        "test = pd.read_csv(\"/content/drive/My Drive/ML/FDA/HW3/data/SPX500/test.csv\")"
      ],
      "execution_count": 0,
      "outputs": []
    },
    {
      "cell_type": "code",
      "metadata": {
        "id": "oWV4mHvFbnHK",
        "colab_type": "code",
        "outputId": "17211187-069b-4eaf-d6fb-8a4a5659be3d",
        "colab": {
          "base_uri": "https://localhost:8080/",
          "height": 204
        }
      },
      "source": [
        "train.head()"
      ],
      "execution_count": 4,
      "outputs": [
        {
          "output_type": "execute_result",
          "data": {
            "text/html": [
              "<div>\n",
              "<style scoped>\n",
              "    .dataframe tbody tr th:only-of-type {\n",
              "        vertical-align: middle;\n",
              "    }\n",
              "\n",
              "    .dataframe tbody tr th {\n",
              "        vertical-align: top;\n",
              "    }\n",
              "\n",
              "    .dataframe thead th {\n",
              "        text-align: right;\n",
              "    }\n",
              "</style>\n",
              "<table border=\"1\" class=\"dataframe\">\n",
              "  <thead>\n",
              "    <tr style=\"text-align: right;\">\n",
              "      <th></th>\n",
              "      <th>Date</th>\n",
              "      <th>Open Price</th>\n",
              "      <th>Close Price</th>\n",
              "      <th>High Price</th>\n",
              "      <th>Low Price</th>\n",
              "      <th>Volume</th>\n",
              "    </tr>\n",
              "  </thead>\n",
              "  <tbody>\n",
              "    <tr>\n",
              "      <th>0</th>\n",
              "      <td>02-Jan-2009</td>\n",
              "      <td>902.99</td>\n",
              "      <td>931.80</td>\n",
              "      <td>934.73</td>\n",
              "      <td>899.35</td>\n",
              "      <td>4048270080</td>\n",
              "    </tr>\n",
              "    <tr>\n",
              "      <th>1</th>\n",
              "      <td>05-Jan-2009</td>\n",
              "      <td>929.17</td>\n",
              "      <td>927.45</td>\n",
              "      <td>936.63</td>\n",
              "      <td>919.53</td>\n",
              "      <td>5413910016</td>\n",
              "    </tr>\n",
              "    <tr>\n",
              "      <th>2</th>\n",
              "      <td>06-Jan-2009</td>\n",
              "      <td>931.17</td>\n",
              "      <td>934.70</td>\n",
              "      <td>943.85</td>\n",
              "      <td>927.28</td>\n",
              "      <td>5392620032</td>\n",
              "    </tr>\n",
              "    <tr>\n",
              "      <th>3</th>\n",
              "      <td>07-Jan-2009</td>\n",
              "      <td>927.45</td>\n",
              "      <td>906.65</td>\n",
              "      <td>927.45</td>\n",
              "      <td>902.37</td>\n",
              "      <td>4704940032</td>\n",
              "    </tr>\n",
              "    <tr>\n",
              "      <th>4</th>\n",
              "      <td>08-Jan-2009</td>\n",
              "      <td>905.73</td>\n",
              "      <td>909.73</td>\n",
              "      <td>910.00</td>\n",
              "      <td>896.81</td>\n",
              "      <td>4991549952</td>\n",
              "    </tr>\n",
              "  </tbody>\n",
              "</table>\n",
              "</div>"
            ],
            "text/plain": [
              "          Date  Open Price  Close Price  High Price  Low Price      Volume\n",
              "0  02-Jan-2009      902.99       931.80      934.73     899.35  4048270080\n",
              "1  05-Jan-2009      929.17       927.45      936.63     919.53  5413910016\n",
              "2  06-Jan-2009      931.17       934.70      943.85     927.28  5392620032\n",
              "3  07-Jan-2009      927.45       906.65      927.45     902.37  4704940032\n",
              "4  08-Jan-2009      905.73       909.73      910.00     896.81  4991549952"
            ]
          },
          "metadata": {
            "tags": []
          },
          "execution_count": 4
        }
      ]
    },
    {
      "cell_type": "markdown",
      "metadata": {
        "id": "_hjkcZwOfjKx",
        "colab_type": "text"
      },
      "source": [
        "# Setting date as index"
      ]
    },
    {
      "cell_type": "code",
      "metadata": {
        "id": "RAviPkPAfdfK",
        "colab_type": "code",
        "colab": {}
      },
      "source": [
        "data_cleaner = [train, test]\n",
        "data_0 = test.copy(deep=True)"
      ],
      "execution_count": 0,
      "outputs": []
    },
    {
      "cell_type": "code",
      "metadata": {
        "id": "XwCW7x7MgaKF",
        "colab_type": "code",
        "outputId": "01e8d126-c80b-4d14-8eaa-3b3e414308fa",
        "colab": {
          "base_uri": "https://localhost:8080/",
          "height": 204
        }
      },
      "source": [
        "data_0.tail()"
      ],
      "execution_count": 6,
      "outputs": [
        {
          "output_type": "execute_result",
          "data": {
            "text/html": [
              "<div>\n",
              "<style scoped>\n",
              "    .dataframe tbody tr th:only-of-type {\n",
              "        vertical-align: middle;\n",
              "    }\n",
              "\n",
              "    .dataframe tbody tr th {\n",
              "        vertical-align: top;\n",
              "    }\n",
              "\n",
              "    .dataframe thead th {\n",
              "        text-align: right;\n",
              "    }\n",
              "</style>\n",
              "<table border=\"1\" class=\"dataframe\">\n",
              "  <thead>\n",
              "    <tr style=\"text-align: right;\">\n",
              "      <th></th>\n",
              "      <th>Date</th>\n",
              "      <th>Open Price</th>\n",
              "      <th>Close Price</th>\n",
              "      <th>High Price</th>\n",
              "      <th>Low Price</th>\n",
              "      <th>Volume</th>\n",
              "    </tr>\n",
              "  </thead>\n",
              "  <tbody>\n",
              "    <tr>\n",
              "      <th>247</th>\n",
              "      <td>24-Dec-2018</td>\n",
              "      <td>2400.56</td>\n",
              "      <td>2351.10</td>\n",
              "      <td>2410.34</td>\n",
              "      <td>2351.10</td>\n",
              "      <td>1662758784</td>\n",
              "    </tr>\n",
              "    <tr>\n",
              "      <th>248</th>\n",
              "      <td>26-Dec-2018</td>\n",
              "      <td>2363.12</td>\n",
              "      <td>2467.70</td>\n",
              "      <td>2467.76</td>\n",
              "      <td>2346.58</td>\n",
              "      <td>2611875072</td>\n",
              "    </tr>\n",
              "    <tr>\n",
              "      <th>249</th>\n",
              "      <td>27-Dec-2018</td>\n",
              "      <td>2442.50</td>\n",
              "      <td>2488.83</td>\n",
              "      <td>2489.10</td>\n",
              "      <td>2397.94</td>\n",
              "      <td>2386466304</td>\n",
              "    </tr>\n",
              "    <tr>\n",
              "      <th>250</th>\n",
              "      <td>28-Dec-2018</td>\n",
              "      <td>2498.77</td>\n",
              "      <td>2485.74</td>\n",
              "      <td>2520.27</td>\n",
              "      <td>2472.89</td>\n",
              "      <td>2080726656</td>\n",
              "    </tr>\n",
              "    <tr>\n",
              "      <th>251</th>\n",
              "      <td>31-Dec-2018</td>\n",
              "      <td>2498.94</td>\n",
              "      <td>2506.85</td>\n",
              "      <td>2509.24</td>\n",
              "      <td>2482.82</td>\n",
              "      <td>1912680064</td>\n",
              "    </tr>\n",
              "  </tbody>\n",
              "</table>\n",
              "</div>"
            ],
            "text/plain": [
              "            Date  Open Price  Close Price  High Price  Low Price      Volume\n",
              "247  24-Dec-2018     2400.56      2351.10     2410.34    2351.10  1662758784\n",
              "248  26-Dec-2018     2363.12      2467.70     2467.76    2346.58  2611875072\n",
              "249  27-Dec-2018     2442.50      2488.83     2489.10    2397.94  2386466304\n",
              "250  28-Dec-2018     2498.77      2485.74     2520.27    2472.89  2080726656\n",
              "251  31-Dec-2018     2498.94      2506.85     2509.24    2482.82  1912680064"
            ]
          },
          "metadata": {
            "tags": []
          },
          "execution_count": 6
        }
      ]
    },
    {
      "cell_type": "code",
      "metadata": {
        "id": "MQp9iqxlghqk",
        "colab_type": "code",
        "colab": {}
      },
      "source": [
        "for data in data_cleaner:\n",
        "  data['Day'] = pd.to_datetime(data['Date'],infer_datetime_format = True)\n",
        "  data = data.set_index(['Day'])"
      ],
      "execution_count": 0,
      "outputs": []
    },
    {
      "cell_type": "code",
      "metadata": {
        "id": "filDtKVDdlu1",
        "colab_type": "code",
        "colab": {}
      },
      "source": [
        "train = train.set_index(['Day'])\n",
        "test = test.set_index(['Day'])"
      ],
      "execution_count": 0,
      "outputs": []
    },
    {
      "cell_type": "code",
      "metadata": {
        "id": "c2jV0rkft5VZ",
        "colab_type": "code",
        "colab": {}
      },
      "source": [
        "# export Open_price.csv\n",
        "export = train['Open Price']\n",
        "export.head()\n",
        "export.to_csv('open_price.csv')"
      ],
      "execution_count": 0,
      "outputs": []
    },
    {
      "cell_type": "markdown",
      "metadata": {
        "id": "JDtabPOZUiNF",
        "colab_type": "text"
      },
      "source": [
        "# Visualization"
      ]
    },
    {
      "cell_type": "code",
      "metadata": {
        "id": "jTI_A-zCZRxv",
        "colab_type": "code",
        "outputId": "bec8b289-3e19-43d5-8007-7ed69b650d9a",
        "colab": {
          "base_uri": "https://localhost:8080/",
          "height": 295
        }
      },
      "source": [
        "plt.plot(train.index,train['Open Price'])\n",
        "plt.xlabel('Date')\n",
        "plt.ylabel('Price')\n",
        "plt.title('Open Price')\n",
        "plt.show()"
      ],
      "execution_count": 10,
      "outputs": [
        {
          "output_type": "display_data",
          "data": {
            "image/png": "[encoded data removed]",
            "text/plain": [
              "<Figure size 432x288 with 1 Axes>"
            ]
          },
          "metadata": {
            "tags": [],
            "needs_background": "light"
          }
        }
      ]
    },
    {
      "cell_type": "code",
      "metadata": {
        "id": "wZ-uWGa3aUgQ",
        "colab_type": "code",
        "outputId": "67b32d58-658c-4825-ca7d-9bcf2ff402db",
        "colab": {
          "base_uri": "https://localhost:8080/",
          "height": 295
        }
      },
      "source": [
        "plt.plot(test.index,test['Close Price'])\n",
        "plt.xlabel('Date')\n",
        "plt.ylabel('Price')\n",
        "plt.title('Close Price')\n",
        "plt.show()"
      ],
      "execution_count": 11,
      "outputs": [
        {
          "output_type": "display_data",
          "data": {
            "image/png": "[encoded data removed]",
            "text/plain": [
              "<Figure size 432x288 with 1 Axes>"
            ]
          },
          "metadata": {
            "tags": [],
            "needs_background": "light"
          }
        }
      ]
    },
    {
      "cell_type": "code",
      "metadata": {
        "id": "do3QLez0aWrp",
        "colab_type": "code",
        "outputId": "6ded9f64-5146-4a63-f8cb-2731c036f359",
        "colab": {
          "base_uri": "https://localhost:8080/",
          "height": 295
        }
      },
      "source": [
        "plt.plot(train.index,train['Volume'])\n",
        "plt.xlabel('Date')\n",
        "plt.ylabel('Vol')\n",
        "plt.title('Volume')\n",
        "plt.show()"
      ],
      "execution_count": 12,
      "outputs": [
        {
          "output_type": "display_data",
          "data": {
            "image/png": "[encoded data removed]",
            "text/plain": [
              "<Figure size 432x288 with 1 Axes>"
            ]
          },
          "metadata": {
            "tags": [],
            "needs_background": "light"
          }
        }
      ]
    },
    {
      "cell_type": "code",
      "metadata": {
        "id": "46Mtk5dJaZ8i",
        "colab_type": "code",
        "outputId": "b8b76925-5a8b-47ca-cc7b-17a82b2674a9",
        "colab": {
          "base_uri": "https://localhost:8080/",
          "height": 295
        }
      },
      "source": [
        "plt.plot(test.index,test['High Price'])\n",
        "plt.xlabel('Date')\n",
        "plt.ylabel('Price')\n",
        "plt.title('High Price')\n",
        "plt.show()"
      ],
      "execution_count": 13,
      "outputs": [
        {
          "output_type": "display_data",
          "data": {
            "image/png": "[encoded data removed]",
            "text/plain": [
              "<Figure size 432x288 with 1 Axes>"
            ]
          },
          "metadata": {
            "tags": [],
            "needs_background": "light"
          }
        }
      ]
    },
    {
      "cell_type": "code",
      "metadata": {
        "id": "uNDipJlmak1_",
        "colab_type": "code",
        "outputId": "2ac54967-d699-4b26-bd5b-4f928fc1fcd8",
        "colab": {
          "base_uri": "https://localhost:8080/",
          "height": 295
        }
      },
      "source": [
        "plt.plot(train.index,train['Low Price'])\n",
        "plt.xlabel('Date')\n",
        "plt.ylabel('Price')\n",
        "plt.title('Low Price')\n",
        "plt.show()"
      ],
      "execution_count": 14,
      "outputs": [
        {
          "output_type": "display_data",
          "data": {
            "image/png": "[encoded data removed]",
            "text/plain": [
              "<Figure size 432x288 with 1 Axes>"
            ]
          },
          "metadata": {
            "tags": [],
            "needs_background": "light"
          }
        }
      ]
    },
    {
      "cell_type": "code",
      "metadata": {
        "id": "Pi9eMoNHbCRf",
        "colab_type": "code",
        "outputId": "ede07287-3327-4c8b-8312-499d88930471",
        "colab": {
          "base_uri": "https://localhost:8080/",
          "height": 295
        }
      },
      "source": [
        "train['High-Low']=train['High Price']-train['Low Price']\n",
        "plt.plot(train.index,train['High-Low'])\n",
        "plt.xlabel('Date')\n",
        "plt.ylabel('Price')\n",
        "plt.title('Delta Value (High Price-How Price)')\n",
        "plt.show()"
      ],
      "execution_count": 15,
      "outputs": [
        {
          "output_type": "display_data",
          "data": {
            "image/png": "[encoded data removed]",
            "text/plain": [
              "<Figure size 432x288 with 1 Axes>"
            ]
          },
          "metadata": {
            "tags": [],
            "needs_background": "light"
          }
        }
      ]
    },
    {
      "cell_type": "code",
      "metadata": {
        "id": "1Ewmh428bZ49",
        "colab_type": "code",
        "outputId": "8361b9d0-cb91-4b10-8ac4-c0480cbb73b1",
        "colab": {
          "base_uri": "https://localhost:8080/",
          "height": 295
        }
      },
      "source": [
        "train['Open-Close']=train['Open Price']-train['Close Price']\n",
        "plt.plot(train.index,train['Open-Close'])\n",
        "plt.xlabel('Date')\n",
        "plt.ylabel('Price')\n",
        "plt.title('delta value (Open Price - Close Price)')\n",
        "plt.show()"
      ],
      "execution_count": 16,
      "outputs": [
        {
          "output_type": "display_data",
          "data": {
            "image/png": "[encoded data removed]",
            "text/plain": [
              "<Figure size 432x288 with 1 Axes>"
            ]
          },
          "metadata": {
            "tags": [],
            "needs_background": "light"
          }
        }
      ]
    },
    {
      "cell_type": "markdown",
      "metadata": {
        "id": "GUwMEiFRfH8V",
        "colab_type": "text"
      },
      "source": [
        "# Data Processing\n",
        "- Adding Day of the week\n",
        "  - Stock prices may have a larger deviation on Mondays and Fridays so adding day of the week may help forecasting"
      ]
    },
    {
      "cell_type": "code",
      "metadata": {
        "id": "IW0YXWbkWBPi",
        "colab_type": "code",
        "colab": {}
      },
      "source": [
        "def to_week_day(date):\n",
        "  return datetime.strptime(date, \"%d-%b-%Y\").weekday()\n",
        "train['WeekDay'] = train['Date'].apply(to_week_day)"
      ],
      "execution_count": 0,
      "outputs": []
    },
    {
      "cell_type": "code",
      "metadata": {
        "id": "Rj6ApIpRYvyV",
        "colab_type": "code",
        "outputId": "14abc9f6-91d3-4904-a0f3-cb15a8295ba9",
        "colab": {
          "base_uri": "https://localhost:8080/",
          "height": 235
        }
      },
      "source": [
        "test.head()"
      ],
      "execution_count": 18,
      "outputs": [
        {
          "output_type": "execute_result",
          "data": {
            "text/html": [
              "<div>\n",
              "<style scoped>\n",
              "    .dataframe tbody tr th:only-of-type {\n",
              "        vertical-align: middle;\n",
              "    }\n",
              "\n",
              "    .dataframe tbody tr th {\n",
              "        vertical-align: top;\n",
              "    }\n",
              "\n",
              "    .dataframe thead th {\n",
              "        text-align: right;\n",
              "    }\n",
              "</style>\n",
              "<table border=\"1\" class=\"dataframe\">\n",
              "  <thead>\n",
              "    <tr style=\"text-align: right;\">\n",
              "      <th></th>\n",
              "      <th>Date</th>\n",
              "      <th>Open Price</th>\n",
              "      <th>Close Price</th>\n",
              "      <th>High Price</th>\n",
              "      <th>Low Price</th>\n",
              "      <th>Volume</th>\n",
              "    </tr>\n",
              "    <tr>\n",
              "      <th>Day</th>\n",
              "      <th></th>\n",
              "      <th></th>\n",
              "      <th></th>\n",
              "      <th></th>\n",
              "      <th></th>\n",
              "      <th></th>\n",
              "    </tr>\n",
              "  </thead>\n",
              "  <tbody>\n",
              "    <tr>\n",
              "      <th>2018-01-02</th>\n",
              "      <td>02-Jan-2018</td>\n",
              "      <td>2683.73</td>\n",
              "      <td>2695.81</td>\n",
              "      <td>2695.89</td>\n",
              "      <td>2682.36</td>\n",
              "      <td>1846463232</td>\n",
              "    </tr>\n",
              "    <tr>\n",
              "      <th>2018-01-03</th>\n",
              "      <td>03-Jan-2018</td>\n",
              "      <td>2697.85</td>\n",
              "      <td>2713.06</td>\n",
              "      <td>2714.37</td>\n",
              "      <td>2697.77</td>\n",
              "      <td>2090595328</td>\n",
              "    </tr>\n",
              "    <tr>\n",
              "      <th>2018-01-04</th>\n",
              "      <td>04-Jan-2018</td>\n",
              "      <td>2719.31</td>\n",
              "      <td>2723.99</td>\n",
              "      <td>2729.29</td>\n",
              "      <td>2719.07</td>\n",
              "      <td>2100767744</td>\n",
              "    </tr>\n",
              "    <tr>\n",
              "      <th>2018-01-05</th>\n",
              "      <td>05-Jan-2018</td>\n",
              "      <td>2731.33</td>\n",
              "      <td>2743.15</td>\n",
              "      <td>2743.45</td>\n",
              "      <td>2727.92</td>\n",
              "      <td>1918869120</td>\n",
              "    </tr>\n",
              "    <tr>\n",
              "      <th>2018-01-08</th>\n",
              "      <td>08-Jan-2018</td>\n",
              "      <td>2742.67</td>\n",
              "      <td>2747.71</td>\n",
              "      <td>2748.51</td>\n",
              "      <td>2737.60</td>\n",
              "      <td>1894823936</td>\n",
              "    </tr>\n",
              "  </tbody>\n",
              "</table>\n",
              "</div>"
            ],
            "text/plain": [
              "                   Date  Open Price  ...  Low Price      Volume\n",
              "Day                                  ...                       \n",
              "2018-01-02  02-Jan-2018     2683.73  ...    2682.36  1846463232\n",
              "2018-01-03  03-Jan-2018     2697.85  ...    2697.77  2090595328\n",
              "2018-01-04  04-Jan-2018     2719.31  ...    2719.07  2100767744\n",
              "2018-01-05  05-Jan-2018     2731.33  ...    2727.92  1918869120\n",
              "2018-01-08  08-Jan-2018     2742.67  ...    2737.60  1894823936\n",
              "\n",
              "[5 rows x 6 columns]"
            ]
          },
          "metadata": {
            "tags": []
          },
          "execution_count": 18
        }
      ]
    },
    {
      "cell_type": "code",
      "metadata": {
        "id": "4NdtORgxZEDt",
        "colab_type": "code",
        "colab": {}
      },
      "source": [
        "for data in data_cleaner:\n",
        "  data['WeekDay'] = data['Date'].apply(to_week_day)"
      ],
      "execution_count": 0,
      "outputs": []
    },
    {
      "cell_type": "code",
      "metadata": {
        "id": "Sg-eCKyusfAt",
        "colab_type": "code",
        "outputId": "0679188e-d15e-46e5-bb6c-4271a6003917",
        "colab": {
          "base_uri": "https://localhost:8080/",
          "height": 402
        }
      },
      "source": [
        "\n",
        "\n",
        "\n",
        "series = read_csv(\"/content/open_price.csv\", header=0, parse_dates=[0], index_col=0, squeeze=True)\n",
        "# series = read_csv(\"/content/open_price.csv\")\n",
        "autocorrelation_plot(series)\n",
        "# plt.show()\n",
        "series.head()"
      ],
      "execution_count": 20,
      "outputs": [
        {
          "output_type": "execute_result",
          "data": {
            "text/plain": [
              "Day\n",
              "2009-01-02    902.99\n",
              "2009-01-05    929.17\n",
              "2009-01-06    931.17\n",
              "2009-01-07    927.45\n",
              "2009-01-08    905.73\n",
              "Name: Open Price, dtype: float64"
            ]
          },
          "metadata": {
            "tags": []
          },
          "execution_count": 20
        },
        {
          "output_type": "display_data",
          "data": {
            "image/png": "[encoded data removed]",
            "text/plain": [
              "<Figure size 432x288 with 1 Axes>"
            ]
          },
          "metadata": {
            "tags": [],
            "needs_background": "light"
          }
        }
      ]
    },
    {
      "cell_type": "markdown",
      "metadata": {
        "id": "l3uvh0O6Gkld",
        "colab_type": "text"
      },
      "source": [
        "# 1 Facebook Prophet"
      ]
    },
    {
      "cell_type": "markdown",
      "metadata": {
        "id": "9JFxl3Dy8hl-",
        "colab_type": "text"
      },
      "source": [
        "## 1.1 Data Preprocessing"
      ]
    },
    {
      "cell_type": "code",
      "metadata": {
        "id": "20UPorH64c8k",
        "colab_type": "code",
        "outputId": "d749728b-3f35-4370-fa2b-d55a44b530ba",
        "colab": {
          "base_uri": "https://localhost:8080/",
          "height": 204
        }
      },
      "source": [
        "df = pd.read_csv('/content/drive/My Drive/ML/FDA/HW3/data/SPX500/train.csv')\n",
        "test = pd.read_csv('/content/drive/My Drive/ML/FDA/HW3/data/SPX500/test.csv')\n",
        "df.head()"
      ],
      "execution_count": 21,
      "outputs": [
        {
          "output_type": "execute_result",
          "data": {
            "text/html": [
              "<div>\n",
              "<style scoped>\n",
              "    .dataframe tbody tr th:only-of-type {\n",
              "        vertical-align: middle;\n",
              "    }\n",
              "\n",
              "    .dataframe tbody tr th {\n",
              "        vertical-align: top;\n",
              "    }\n",
              "\n",
              "    .dataframe thead th {\n",
              "        text-align: right;\n",
              "    }\n",
              "</style>\n",
              "<table border=\"1\" class=\"dataframe\">\n",
              "  <thead>\n",
              "    <tr style=\"text-align: right;\">\n",
              "      <th></th>\n",
              "      <th>Date</th>\n",
              "      <th>Open Price</th>\n",
              "      <th>Close Price</th>\n",
              "      <th>High Price</th>\n",
              "      <th>Low Price</th>\n",
              "      <th>Volume</th>\n",
              "    </tr>\n",
              "  </thead>\n",
              "  <tbody>\n",
              "    <tr>\n",
              "      <th>0</th>\n",
              "      <td>02-Jan-2009</td>\n",
              "      <td>902.99</td>\n",
              "      <td>931.80</td>\n",
              "      <td>934.73</td>\n",
              "      <td>899.35</td>\n",
              "      <td>4048270080</td>\n",
              "    </tr>\n",
              "    <tr>\n",
              "      <th>1</th>\n",
              "      <td>05-Jan-2009</td>\n",
              "      <td>929.17</td>\n",
              "      <td>927.45</td>\n",
              "      <td>936.63</td>\n",
              "      <td>919.53</td>\n",
              "      <td>5413910016</td>\n",
              "    </tr>\n",
              "    <tr>\n",
              "      <th>2</th>\n",
              "      <td>06-Jan-2009</td>\n",
              "      <td>931.17</td>\n",
              "      <td>934.70</td>\n",
              "      <td>943.85</td>\n",
              "      <td>927.28</td>\n",
              "      <td>5392620032</td>\n",
              "    </tr>\n",
              "    <tr>\n",
              "      <th>3</th>\n",
              "      <td>07-Jan-2009</td>\n",
              "      <td>927.45</td>\n",
              "      <td>906.65</td>\n",
              "      <td>927.45</td>\n",
              "      <td>902.37</td>\n",
              "      <td>4704940032</td>\n",
              "    </tr>\n",
              "    <tr>\n",
              "      <th>4</th>\n",
              "      <td>08-Jan-2009</td>\n",
              "      <td>905.73</td>\n",
              "      <td>909.73</td>\n",
              "      <td>910.00</td>\n",
              "      <td>896.81</td>\n",
              "      <td>4991549952</td>\n",
              "    </tr>\n",
              "  </tbody>\n",
              "</table>\n",
              "</div>"
            ],
            "text/plain": [
              "          Date  Open Price  Close Price  High Price  Low Price      Volume\n",
              "0  02-Jan-2009      902.99       931.80      934.73     899.35  4048270080\n",
              "1  05-Jan-2009      929.17       927.45      936.63     919.53  5413910016\n",
              "2  06-Jan-2009      931.17       934.70      943.85     927.28  5392620032\n",
              "3  07-Jan-2009      927.45       906.65      927.45     902.37  4704940032\n",
              "4  08-Jan-2009      905.73       909.73      910.00     896.81  4991549952"
            ]
          },
          "metadata": {
            "tags": []
          },
          "execution_count": 21
        }
      ]
    },
    {
      "cell_type": "code",
      "metadata": {
        "id": "I1uFMgxnIfFb",
        "colab_type": "code",
        "outputId": "2ff1b5cc-acde-4afa-f07e-4ecb0b432431",
        "colab": {
          "base_uri": "https://localhost:8080/",
          "height": 204
        }
      },
      "source": [
        "\n",
        "\n",
        "df['ds'] = pd.to_datetime(df['Date'],infer_datetime_format = True)\n",
        "test['ds'] = pd.to_datetime(test['Date'],infer_datetime_format = True)\n",
        "test['y'] = (test['Open Price'])\n",
        "df['y'] = (df['Open Price'])\n",
        "df.head()\n"
      ],
      "execution_count": 22,
      "outputs": [
        {
          "output_type": "execute_result",
          "data": {
            "text/html": [
              "<div>\n",
              "<style scoped>\n",
              "    .dataframe tbody tr th:only-of-type {\n",
              "        vertical-align: middle;\n",
              "    }\n",
              "\n",
              "    .dataframe tbody tr th {\n",
              "        vertical-align: top;\n",
              "    }\n",
              "\n",
              "    .dataframe thead th {\n",
              "        text-align: right;\n",
              "    }\n",
              "</style>\n",
              "<table border=\"1\" class=\"dataframe\">\n",
              "  <thead>\n",
              "    <tr style=\"text-align: right;\">\n",
              "      <th></th>\n",
              "      <th>Date</th>\n",
              "      <th>Open Price</th>\n",
              "      <th>Close Price</th>\n",
              "      <th>High Price</th>\n",
              "      <th>Low Price</th>\n",
              "      <th>Volume</th>\n",
              "      <th>ds</th>\n",
              "      <th>y</th>\n",
              "    </tr>\n",
              "  </thead>\n",
              "  <tbody>\n",
              "    <tr>\n",
              "      <th>0</th>\n",
              "      <td>02-Jan-2009</td>\n",
              "      <td>902.99</td>\n",
              "      <td>931.80</td>\n",
              "      <td>934.73</td>\n",
              "      <td>899.35</td>\n",
              "      <td>4048270080</td>\n",
              "      <td>2009-01-02</td>\n",
              "      <td>902.99</td>\n",
              "    </tr>\n",
              "    <tr>\n",
              "      <th>1</th>\n",
              "      <td>05-Jan-2009</td>\n",
              "      <td>929.17</td>\n",
              "      <td>927.45</td>\n",
              "      <td>936.63</td>\n",
              "      <td>919.53</td>\n",
              "      <td>5413910016</td>\n",
              "      <td>2009-01-05</td>\n",
              "      <td>929.17</td>\n",
              "    </tr>\n",
              "    <tr>\n",
              "      <th>2</th>\n",
              "      <td>06-Jan-2009</td>\n",
              "      <td>931.17</td>\n",
              "      <td>934.70</td>\n",
              "      <td>943.85</td>\n",
              "      <td>927.28</td>\n",
              "      <td>5392620032</td>\n",
              "      <td>2009-01-06</td>\n",
              "      <td>931.17</td>\n",
              "    </tr>\n",
              "    <tr>\n",
              "      <th>3</th>\n",
              "      <td>07-Jan-2009</td>\n",
              "      <td>927.45</td>\n",
              "      <td>906.65</td>\n",
              "      <td>927.45</td>\n",
              "      <td>902.37</td>\n",
              "      <td>4704940032</td>\n",
              "      <td>2009-01-07</td>\n",
              "      <td>927.45</td>\n",
              "    </tr>\n",
              "    <tr>\n",
              "      <th>4</th>\n",
              "      <td>08-Jan-2009</td>\n",
              "      <td>905.73</td>\n",
              "      <td>909.73</td>\n",
              "      <td>910.00</td>\n",
              "      <td>896.81</td>\n",
              "      <td>4991549952</td>\n",
              "      <td>2009-01-08</td>\n",
              "      <td>905.73</td>\n",
              "    </tr>\n",
              "  </tbody>\n",
              "</table>\n",
              "</div>"
            ],
            "text/plain": [
              "          Date  Open Price  Close Price  ...      Volume         ds       y\n",
              "0  02-Jan-2009      902.99       931.80  ...  4048270080 2009-01-02  902.99\n",
              "1  05-Jan-2009      929.17       927.45  ...  5413910016 2009-01-05  929.17\n",
              "2  06-Jan-2009      931.17       934.70  ...  5392620032 2009-01-06  931.17\n",
              "3  07-Jan-2009      927.45       906.65  ...  4704940032 2009-01-07  927.45\n",
              "4  08-Jan-2009      905.73       909.73  ...  4991549952 2009-01-08  905.73\n",
              "\n",
              "[5 rows x 8 columns]"
            ]
          },
          "metadata": {
            "tags": []
          },
          "execution_count": 22
        }
      ]
    },
    {
      "cell_type": "markdown",
      "metadata": {
        "id": "82jOBQH58pKz",
        "colab_type": "text"
      },
      "source": [
        "## 1.2 Model Building + Forecasting"
      ]
    },
    {
      "cell_type": "code",
      "metadata": {
        "id": "Y9k4gbebI28C",
        "colab_type": "code",
        "outputId": "04dc1e6d-7008-4476-86f7-4cda08e9d04e",
        "colab": {
          "base_uri": "https://localhost:8080/",
          "height": 51
        }
      },
      "source": [
        "m = Prophet(growth='linear')\n",
        "m.fit(df)\n"
      ],
      "execution_count": 23,
      "outputs": [
        {
          "output_type": "stream",
          "text": [
            "INFO:fbprophet:Disabling daily seasonality. Run prophet with daily_seasonality=True to override this.\n"
          ],
          "name": "stderr"
        },
        {
          "output_type": "execute_result",
          "data": {
            "text/plain": [
              "<fbprophet.forecaster.Prophet at 0x7fbd69c18898>"
            ]
          },
          "metadata": {
            "tags": []
          },
          "execution_count": 23
        }
      ]
    },
    {
      "cell_type": "code",
      "metadata": {
        "id": "vNcUPYNjJYPN",
        "colab_type": "code",
        "outputId": "24aebd0c-05da-446b-e410-1cafc586a1cd",
        "colab": {
          "base_uri": "https://localhost:8080/",
          "height": 309
        }
      },
      "source": [
        "future = m.make_future_dataframe(periods=367, freq='D')\n",
        "fcst = m.predict(future)\n",
        "fcst.head()"
      ],
      "execution_count": 24,
      "outputs": [
        {
          "output_type": "execute_result",
          "data": {
            "text/html": [
              "<div>\n",
              "<style scoped>\n",
              "    .dataframe tbody tr th:only-of-type {\n",
              "        vertical-align: middle;\n",
              "    }\n",
              "\n",
              "    .dataframe tbody tr th {\n",
              "        vertical-align: top;\n",
              "    }\n",
              "\n",
              "    .dataframe thead th {\n",
              "        text-align: right;\n",
              "    }\n",
              "</style>\n",
              "<table border=\"1\" class=\"dataframe\">\n",
              "  <thead>\n",
              "    <tr style=\"text-align: right;\">\n",
              "      <th></th>\n",
              "      <th>ds</th>\n",
              "      <th>trend</th>\n",
              "      <th>yhat_lower</th>\n",
              "      <th>yhat_upper</th>\n",
              "      <th>trend_lower</th>\n",
              "      <th>trend_upper</th>\n",
              "      <th>additive_terms</th>\n",
              "      <th>additive_terms_lower</th>\n",
              "      <th>additive_terms_upper</th>\n",
              "      <th>weekly</th>\n",
              "      <th>weekly_lower</th>\n",
              "      <th>weekly_upper</th>\n",
              "      <th>yearly</th>\n",
              "      <th>yearly_lower</th>\n",
              "      <th>yearly_upper</th>\n",
              "      <th>multiplicative_terms</th>\n",
              "      <th>multiplicative_terms_lower</th>\n",
              "      <th>multiplicative_terms_upper</th>\n",
              "      <th>yhat</th>\n",
              "    </tr>\n",
              "  </thead>\n",
              "  <tbody>\n",
              "    <tr>\n",
              "      <th>0</th>\n",
              "      <td>2009-01-02</td>\n",
              "      <td>825.260818</td>\n",
              "      <td>775.052007</td>\n",
              "      <td>873.510093</td>\n",
              "      <td>825.260818</td>\n",
              "      <td>825.260818</td>\n",
              "      <td>0.236833</td>\n",
              "      <td>0.236833</td>\n",
              "      <td>0.236833</td>\n",
              "      <td>-14.025168</td>\n",
              "      <td>-14.025168</td>\n",
              "      <td>-14.025168</td>\n",
              "      <td>14.262002</td>\n",
              "      <td>14.262002</td>\n",
              "      <td>14.262002</td>\n",
              "      <td>0.0</td>\n",
              "      <td>0.0</td>\n",
              "      <td>0.0</td>\n",
              "      <td>825.497651</td>\n",
              "    </tr>\n",
              "    <tr>\n",
              "      <th>1</th>\n",
              "      <td>2009-01-05</td>\n",
              "      <td>825.773739</td>\n",
              "      <td>775.911304</td>\n",
              "      <td>872.285814</td>\n",
              "      <td>825.773739</td>\n",
              "      <td>825.773739</td>\n",
              "      <td>-1.176469</td>\n",
              "      <td>-1.176469</td>\n",
              "      <td>-1.176469</td>\n",
              "      <td>-15.104750</td>\n",
              "      <td>-15.104750</td>\n",
              "      <td>-15.104750</td>\n",
              "      <td>13.928280</td>\n",
              "      <td>13.928280</td>\n",
              "      <td>13.928280</td>\n",
              "      <td>0.0</td>\n",
              "      <td>0.0</td>\n",
              "      <td>0.0</td>\n",
              "      <td>824.597270</td>\n",
              "    </tr>\n",
              "    <tr>\n",
              "      <th>2</th>\n",
              "      <td>2009-01-06</td>\n",
              "      <td>825.944713</td>\n",
              "      <td>774.254606</td>\n",
              "      <td>871.612655</td>\n",
              "      <td>825.944713</td>\n",
              "      <td>825.944713</td>\n",
              "      <td>-1.835030</td>\n",
              "      <td>-1.835030</td>\n",
              "      <td>-1.835030</td>\n",
              "      <td>-15.310428</td>\n",
              "      <td>-15.310428</td>\n",
              "      <td>-15.310428</td>\n",
              "      <td>13.475398</td>\n",
              "      <td>13.475398</td>\n",
              "      <td>13.475398</td>\n",
              "      <td>0.0</td>\n",
              "      <td>0.0</td>\n",
              "      <td>0.0</td>\n",
              "      <td>824.109683</td>\n",
              "    </tr>\n",
              "    <tr>\n",
              "      <th>3</th>\n",
              "      <td>2009-01-07</td>\n",
              "      <td>826.115687</td>\n",
              "      <td>770.488425</td>\n",
              "      <td>870.855712</td>\n",
              "      <td>826.115687</td>\n",
              "      <td>826.115687</td>\n",
              "      <td>-2.345495</td>\n",
              "      <td>-2.345495</td>\n",
              "      <td>-2.345495</td>\n",
              "      <td>-15.186068</td>\n",
              "      <td>-15.186068</td>\n",
              "      <td>-15.186068</td>\n",
              "      <td>12.840572</td>\n",
              "      <td>12.840572</td>\n",
              "      <td>12.840572</td>\n",
              "      <td>0.0</td>\n",
              "      <td>0.0</td>\n",
              "      <td>0.0</td>\n",
              "      <td>823.770192</td>\n",
              "    </tr>\n",
              "    <tr>\n",
              "      <th>4</th>\n",
              "      <td>2009-01-08</td>\n",
              "      <td>826.286661</td>\n",
              "      <td>774.699939</td>\n",
              "      <td>870.169032</td>\n",
              "      <td>826.286661</td>\n",
              "      <td>826.286661</td>\n",
              "      <td>-2.754397</td>\n",
              "      <td>-2.754397</td>\n",
              "      <td>-2.754397</td>\n",
              "      <td>-14.776963</td>\n",
              "      <td>-14.776963</td>\n",
              "      <td>-14.776963</td>\n",
              "      <td>12.022567</td>\n",
              "      <td>12.022567</td>\n",
              "      <td>12.022567</td>\n",
              "      <td>0.0</td>\n",
              "      <td>0.0</td>\n",
              "      <td>0.0</td>\n",
              "      <td>823.532264</td>\n",
              "    </tr>\n",
              "  </tbody>\n",
              "</table>\n",
              "</div>"
            ],
            "text/plain": [
              "          ds       trend  ...  multiplicative_terms_upper        yhat\n",
              "0 2009-01-02  825.260818  ...                         0.0  825.497651\n",
              "1 2009-01-05  825.773739  ...                         0.0  824.597270\n",
              "2 2009-01-06  825.944713  ...                         0.0  824.109683\n",
              "3 2009-01-07  826.115687  ...                         0.0  823.770192\n",
              "4 2009-01-08  826.286661  ...                         0.0  823.532264\n",
              "\n",
              "[5 rows x 19 columns]"
            ]
          },
          "metadata": {
            "tags": []
          },
          "execution_count": 24
        }
      ]
    },
    {
      "cell_type": "code",
      "metadata": {
        "id": "C2Ts3nHMKged",
        "colab_type": "code",
        "colab": {}
      },
      "source": [
        "pred = fcst[(fcst['ds'].isin(test['ds']))]"
      ],
      "execution_count": 0,
      "outputs": []
    },
    {
      "cell_type": "code",
      "metadata": {
        "id": "T_XNlLouLFze",
        "colab_type": "code",
        "outputId": "097ac497-5b5a-41e1-eb2b-5f199c55fbdc",
        "colab": {
          "base_uri": "https://localhost:8080/",
          "height": 281
        }
      },
      "source": [
        "plt.plot(pred['ds'],pred['yhat'],label = 'Prediction')\n",
        "plt.plot(test['ds'],test['y'],label = 'Test Data')\n",
        "plt.legend(loc = 'upper left')\n",
        "plt.title('Prediction')\n",
        "plt.show()"
      ],
      "execution_count": 26,
      "outputs": [
        {
          "output_type": "display_data",
          "data": {
            "image/png": "[encoded data removed]",
            "text/plain": [
              "<Figure size 432x288 with 1 Axes>"
            ]
          },
          "metadata": {
            "tags": [],
            "needs_background": "light"
          }
        }
      ]
    },
    {
      "cell_type": "code",
      "metadata": {
        "id": "PUwFytZiUqz5",
        "colab_type": "code",
        "colab": {}
      },
      "source": [
        "predictions = pred['yhat']\n",
        "expected = test['y']"
      ],
      "execution_count": 0,
      "outputs": []
    },
    {
      "cell_type": "code",
      "metadata": {
        "id": "2XoS5OsfR2gW",
        "colab_type": "code",
        "outputId": "fa30ec32-c39c-4b09-ff28-edaa01897fa1",
        "colab": {
          "base_uri": "https://localhost:8080/",
          "height": 34
        }
      },
      "source": [
        "import math\n",
        "mse = mean_squared_error(expected, predictions)\n",
        "rmse = math.sqrt(mse)\n",
        "print('RMSE: %f' % rmse)"
      ],
      "execution_count": 28,
      "outputs": [
        {
          "output_type": "stream",
          "text": [
            "RMSE: 155.725154\n"
          ],
          "name": "stdout"
        }
      ]
    },
    {
      "cell_type": "markdown",
      "metadata": {
        "id": "RTSGY4hyDaKm",
        "colab_type": "text"
      },
      "source": [
        "# 2 Long Short Term Memory (LSTM)\n"
      ]
    },
    {
      "cell_type": "markdown",
      "metadata": {
        "id": "B7xzwvTrOlrZ",
        "colab_type": "text"
      },
      "source": [
        "## 2.1 Preprocessing"
      ]
    },
    {
      "cell_type": "code",
      "metadata": {
        "id": "tKSKHmuBLPm4",
        "colab_type": "code",
        "outputId": "0b82cf3a-0442-432f-8940-7173827cff02",
        "colab": {
          "base_uri": "https://localhost:8080/",
          "height": 204
        }
      },
      "source": [
        "train = pd.read_csv(\"/content/drive/My Drive/ML/FDA/HW3/data/SPX500/train.csv\")\n",
        "test = pd.read_csv(\"/content/drive/My Drive/ML/FDA/HW3/data/SPX500/test.csv\")\n",
        "train['ds'] = pd.to_datetime(train['Date'],infer_datetime_format = True)\n",
        "test['ds'] = pd.to_datetime(test['Date'],infer_datetime_format = True)\n",
        "train.head()"
      ],
      "execution_count": 29,
      "outputs": [
        {
          "output_type": "execute_result",
          "data": {
            "text/html": [
              "<div>\n",
              "<style scoped>\n",
              "    .dataframe tbody tr th:only-of-type {\n",
              "        vertical-align: middle;\n",
              "    }\n",
              "\n",
              "    .dataframe tbody tr th {\n",
              "        vertical-align: top;\n",
              "    }\n",
              "\n",
              "    .dataframe thead th {\n",
              "        text-align: right;\n",
              "    }\n",
              "</style>\n",
              "<table border=\"1\" class=\"dataframe\">\n",
              "  <thead>\n",
              "    <tr style=\"text-align: right;\">\n",
              "      <th></th>\n",
              "      <th>Date</th>\n",
              "      <th>Open Price</th>\n",
              "      <th>Close Price</th>\n",
              "      <th>High Price</th>\n",
              "      <th>Low Price</th>\n",
              "      <th>Volume</th>\n",
              "      <th>ds</th>\n",
              "    </tr>\n",
              "  </thead>\n",
              "  <tbody>\n",
              "    <tr>\n",
              "      <th>0</th>\n",
              "      <td>02-Jan-2009</td>\n",
              "      <td>902.99</td>\n",
              "      <td>931.80</td>\n",
              "      <td>934.73</td>\n",
              "      <td>899.35</td>\n",
              "      <td>4048270080</td>\n",
              "      <td>2009-01-02</td>\n",
              "    </tr>\n",
              "    <tr>\n",
              "      <th>1</th>\n",
              "      <td>05-Jan-2009</td>\n",
              "      <td>929.17</td>\n",
              "      <td>927.45</td>\n",
              "      <td>936.63</td>\n",
              "      <td>919.53</td>\n",
              "      <td>5413910016</td>\n",
              "      <td>2009-01-05</td>\n",
              "    </tr>\n",
              "    <tr>\n",
              "      <th>2</th>\n",
              "      <td>06-Jan-2009</td>\n",
              "      <td>931.17</td>\n",
              "      <td>934.70</td>\n",
              "      <td>943.85</td>\n",
              "      <td>927.28</td>\n",
              "      <td>5392620032</td>\n",
              "      <td>2009-01-06</td>\n",
              "    </tr>\n",
              "    <tr>\n",
              "      <th>3</th>\n",
              "      <td>07-Jan-2009</td>\n",
              "      <td>927.45</td>\n",
              "      <td>906.65</td>\n",
              "      <td>927.45</td>\n",
              "      <td>902.37</td>\n",
              "      <td>4704940032</td>\n",
              "      <td>2009-01-07</td>\n",
              "    </tr>\n",
              "    <tr>\n",
              "      <th>4</th>\n",
              "      <td>08-Jan-2009</td>\n",
              "      <td>905.73</td>\n",
              "      <td>909.73</td>\n",
              "      <td>910.00</td>\n",
              "      <td>896.81</td>\n",
              "      <td>4991549952</td>\n",
              "      <td>2009-01-08</td>\n",
              "    </tr>\n",
              "  </tbody>\n",
              "</table>\n",
              "</div>"
            ],
            "text/plain": [
              "          Date  Open Price  Close Price  ...  Low Price      Volume         ds\n",
              "0  02-Jan-2009      902.99       931.80  ...     899.35  4048270080 2009-01-02\n",
              "1  05-Jan-2009      929.17       927.45  ...     919.53  5413910016 2009-01-05\n",
              "2  06-Jan-2009      931.17       934.70  ...     927.28  5392620032 2009-01-06\n",
              "3  07-Jan-2009      927.45       906.65  ...     902.37  4704940032 2009-01-07\n",
              "4  08-Jan-2009      905.73       909.73  ...     896.81  4991549952 2009-01-08\n",
              "\n",
              "[5 rows x 7 columns]"
            ]
          },
          "metadata": {
            "tags": []
          },
          "execution_count": 29
        }
      ]
    },
    {
      "cell_type": "code",
      "metadata": {
        "id": "18djw5sROUe9",
        "colab_type": "code",
        "outputId": "03401af4-5d92-4d9d-98b9-6f726a4dcb39",
        "colab": {
          "base_uri": "https://localhost:8080/",
          "height": 235
        }
      },
      "source": [
        "train = train[['ds','Open Price']]\n",
        "test = test[['ds','Open Price']]\n",
        "train = train.set_index(['ds'])\n",
        "test = test.set_index(['ds'])\n",
        "train.head()"
      ],
      "execution_count": 30,
      "outputs": [
        {
          "output_type": "execute_result",
          "data": {
            "text/html": [
              "<div>\n",
              "<style scoped>\n",
              "    .dataframe tbody tr th:only-of-type {\n",
              "        vertical-align: middle;\n",
              "    }\n",
              "\n",
              "    .dataframe tbody tr th {\n",
              "        vertical-align: top;\n",
              "    }\n",
              "\n",
              "    .dataframe thead th {\n",
              "        text-align: right;\n",
              "    }\n",
              "</style>\n",
              "<table border=\"1\" class=\"dataframe\">\n",
              "  <thead>\n",
              "    <tr style=\"text-align: right;\">\n",
              "      <th></th>\n",
              "      <th>Open Price</th>\n",
              "    </tr>\n",
              "    <tr>\n",
              "      <th>ds</th>\n",
              "      <th></th>\n",
              "    </tr>\n",
              "  </thead>\n",
              "  <tbody>\n",
              "    <tr>\n",
              "      <th>2009-01-02</th>\n",
              "      <td>902.99</td>\n",
              "    </tr>\n",
              "    <tr>\n",
              "      <th>2009-01-05</th>\n",
              "      <td>929.17</td>\n",
              "    </tr>\n",
              "    <tr>\n",
              "      <th>2009-01-06</th>\n",
              "      <td>931.17</td>\n",
              "    </tr>\n",
              "    <tr>\n",
              "      <th>2009-01-07</th>\n",
              "      <td>927.45</td>\n",
              "    </tr>\n",
              "    <tr>\n",
              "      <th>2009-01-08</th>\n",
              "      <td>905.73</td>\n",
              "    </tr>\n",
              "  </tbody>\n",
              "</table>\n",
              "</div>"
            ],
            "text/plain": [
              "            Open Price\n",
              "ds                    \n",
              "2009-01-02      902.99\n",
              "2009-01-05      929.17\n",
              "2009-01-06      931.17\n",
              "2009-01-07      927.45\n",
              "2009-01-08      905.73"
            ]
          },
          "metadata": {
            "tags": []
          },
          "execution_count": 30
        }
      ]
    },
    {
      "cell_type": "code",
      "metadata": {
        "id": "y_jZnVZXPbk6",
        "colab_type": "code",
        "outputId": "a789b6fb-680f-42c3-db6d-52a976be7195",
        "colab": {
          "base_uri": "https://localhost:8080/",
          "height": 238
        }
      },
      "source": [
        "scaler  = MinMaxScaler(feature_range=(-1,1))\n",
        "scaler.fit(train['Open Price'].values.reshape(-1,1))\n",
        "train['Open Price'] = scaler.transform(train['Open Price'].values.reshape(-1,1))\n",
        "test['Open Price'] = scaler.transform(test['Open Price'].values.reshape(-1,1))\n",
        "print(train['Open Price'])"
      ],
      "execution_count": 31,
      "outputs": [
        {
          "output_type": "stream",
          "text": [
            "ds\n",
            "2009-01-02   -0.777782\n",
            "2009-01-05   -0.751777\n",
            "2009-01-06   -0.749790\n",
            "2009-01-07   -0.753485\n",
            "2009-01-08   -0.775060\n",
            "                ...   \n",
            "2017-12-22    0.991567\n",
            "2017-12-26    0.986471\n",
            "2017-12-27    0.989461\n",
            "2017-12-28    0.993434\n",
            "2017-12-29    0.996464\n",
            "Name: Open Price, Length: 2264, dtype: float64\n"
          ],
          "name": "stdout"
        }
      ]
    },
    {
      "cell_type": "code",
      "metadata": {
        "id": "tv1dpDKORL56",
        "colab_type": "code",
        "outputId": "40b124af-dc3a-4125-ff6b-7fab4f7a79e4",
        "colab": {
          "base_uri": "https://localhost:8080/",
          "height": 85
        }
      },
      "source": [
        "def load_data(data, look_back):\n",
        "    data_raw = data.values\n",
        "    data = []\n",
        "    # create lookback data \n",
        "    for index in range(len(data_raw) - look_back): \n",
        "        data.append(data_raw[index: index + look_back])\n",
        "    data = np.array(data);\n",
        "    x_train = data[:,:-1,:]\n",
        "    y_train = data[:,-1,:]\n",
        "\n",
        "    return [x_train, y_train]\n",
        "look_back = 20 # number of data to look back \n",
        "x_train, y_train = load_data(train, look_back)\n",
        "x_test, y_test = load_data(test,look_back)\n",
        "print('x_train.shape = ',x_train.shape)\n",
        "print('y_train.shape = ',y_train.shape)\n",
        "print('x_test.shape = ',x_test.shape)\n",
        "print('y_test.shape = ',y_test.shape)"
      ],
      "execution_count": 32,
      "outputs": [
        {
          "output_type": "stream",
          "text": [
            "x_train.shape =  (2244, 19, 1)\n",
            "y_train.shape =  (2244, 1)\n",
            "x_test.shape =  (232, 19, 1)\n",
            "y_test.shape =  (232, 1)\n"
          ],
          "name": "stdout"
        }
      ]
    },
    {
      "cell_type": "code",
      "metadata": {
        "id": "e0-SKliKSSeN",
        "colab_type": "code",
        "colab": {}
      },
      "source": [
        "# to Tensors\n",
        "x_train = torch.from_numpy(x_train).type(torch.Tensor)\n",
        "x_test = torch.from_numpy(x_test).type(torch.Tensor)\n",
        "y_train = torch.from_numpy(y_train).type(torch.Tensor)\n",
        "y_test = torch.from_numpy(y_test).type(torch.Tensor)"
      ],
      "execution_count": 0,
      "outputs": []
    },
    {
      "cell_type": "code",
      "metadata": {
        "id": "HIpvoU09SUmM",
        "colab_type": "code",
        "outputId": "2b367643-d13c-4fa6-81e3-1d344dddaec2",
        "colab": {
          "base_uri": "https://localhost:8080/",
          "height": 34
        }
      },
      "source": [
        "y_train.size(),x_train.size()"
      ],
      "execution_count": 34,
      "outputs": [
        {
          "output_type": "execute_result",
          "data": {
            "text/plain": [
              "(torch.Size([2244, 1]), torch.Size([2244, 19, 1]))"
            ]
          },
          "metadata": {
            "tags": []
          },
          "execution_count": 34
        }
      ]
    },
    {
      "cell_type": "code",
      "metadata": {
        "id": "QxamnScJSmdc",
        "colab_type": "code",
        "colab": {}
      },
      "source": [
        "n_steps = look_back-1\n",
        "batch_size = y_train.shape[0]\n",
        "num_epochs = 100 \n",
        "\n",
        "\n",
        "train_ld = torch.utils.data.TensorDataset(x_train,y_train)\n",
        "test_ld = torch.utils.data.TensorDataset(x_test,y_test)\n",
        "\n",
        "train_loader = torch.utils.data.DataLoader(dataset=train_ld, \n",
        "                                           batch_size=batch_size, \n",
        "                                           shuffle=False)\n",
        "\n",
        "test_loader = torch.utils.data.DataLoader(dataset=test_ld, \n",
        "                                          batch_size=batch_size, \n",
        "                                          shuffle=False)"
      ],
      "execution_count": 0,
      "outputs": []
    },
    {
      "cell_type": "markdown",
      "metadata": {
        "id": "iRsdp3MSUOyk",
        "colab_type": "text"
      },
      "source": [
        "## 2.2 Model Building "
      ]
    },
    {
      "cell_type": "code",
      "metadata": {
        "id": "NdtM3pnAS5cy",
        "colab_type": "code",
        "colab": {}
      },
      "source": [
        "input_dim = 1\n",
        "hidden_dim = 32\n",
        "num_layers = 1 \n",
        "output_dim = 1"
      ],
      "execution_count": 0,
      "outputs": []
    },
    {
      "cell_type": "code",
      "metadata": {
        "id": "tIKk2HZjUnR3",
        "colab_type": "code",
        "outputId": "f34034c1-ebe6-4fce-be39-542351f85cc6",
        "colab": {
          "base_uri": "https://localhost:8080/",
          "height": 272
        }
      },
      "source": [
        "class LSTM(nn.Module):\n",
        "  def __init__(self,input_dim,hidden_dim,num_layers,output_dim):\n",
        "    super(LSTM,self).__init__()\n",
        "    self.hidden_dim = hidden_dim\n",
        "    self.num_layers = num_layers\n",
        "    self.lstm = nn.LSTM(input_dim, hidden_dim, num_layers, batch_first=True)\n",
        "    self.fc = nn.Linear(hidden_dim, output_dim)\n",
        "  def forward(self, x):\n",
        "    h0 = torch.zeros(self.num_layers, x.size(0), self.hidden_dim).requires_grad_()\n",
        "    c0 = torch.zeros(self.num_layers, x.size(0), self.hidden_dim).requires_grad_()\n",
        "    out, (hn, cn) = self.lstm(x, (h0.detach(), c0.detach()))\n",
        "    out = self.fc(out[:, -1, :]) \n",
        "    return out\n",
        "    \n",
        "model = LSTM(input_dim=input_dim, hidden_dim=hidden_dim, output_dim=output_dim, num_layers=num_layers)\n",
        "\n",
        "loss_fn = torch.nn.MSELoss(size_average=True)\n",
        "\n",
        "optimiser = torch.optim.Adam(model.parameters(), lr=0.01)\n",
        "print(model)\n",
        "print(len(list(model.parameters())))\n",
        "for i in range(len(list(model.parameters()))):\n",
        "    print(list(model.parameters())[i].size())\n"
      ],
      "execution_count": 37,
      "outputs": [
        {
          "output_type": "stream",
          "text": [
            "LSTM(\n",
            "  (lstm): LSTM(1, 32, batch_first=True)\n",
            "  (fc): Linear(in_features=32, out_features=1, bias=True)\n",
            ")\n",
            "6\n",
            "torch.Size([128, 1])\n",
            "torch.Size([128, 32])\n",
            "torch.Size([128])\n",
            "torch.Size([128])\n",
            "torch.Size([1, 32])\n",
            "torch.Size([1])\n"
          ],
          "name": "stdout"
        },
        {
          "output_type": "stream",
          "text": [
            "/usr/local/lib/python3.6/dist-packages/torch/nn/_reduction.py:43: UserWarning:\n",
            "\n",
            "size_average and reduce args will be deprecated, please use reduction='mean' instead.\n",
            "\n"
          ],
          "name": "stderr"
        }
      ]
    },
    {
      "cell_type": "code",
      "metadata": {
        "id": "S77whMYiBFZ4",
        "colab_type": "code",
        "outputId": "a882857b-be2c-4dc1-ba0e-e4f62a34e8ac",
        "colab": {
          "base_uri": "https://localhost:8080/",
          "height": 170
        }
      },
      "source": [
        "# Training\n",
        "hist = np.zeros(num_epochs)\n",
        "seq_dim =look_back-1  \n",
        "\n",
        "for t in range(num_epochs):\n",
        "    optimiser.zero_grad()\n",
        "    # Forward\n",
        "    y_train_pred = model(x_train)\n",
        "    loss = loss_fn(y_train_pred, y_train)\n",
        "    if t % 10 == 0 and t !=0:\n",
        "        print(\"Epoch \", t, \"MSE: \", loss.item())\n",
        "    hist[t] = loss.item()\n",
        "    # Backward pass\n",
        "    loss.backward()\n",
        "    optimiser.step()"
      ],
      "execution_count": 38,
      "outputs": [
        {
          "output_type": "stream",
          "text": [
            "Epoch  10 MSE:  0.027820030227303505\n",
            "Epoch  20 MSE:  0.0034015816636383533\n",
            "Epoch  30 MSE:  0.004256421234458685\n",
            "Epoch  40 MSE:  0.0017527745803818107\n",
            "Epoch  50 MSE:  0.0008438619552180171\n",
            "Epoch  60 MSE:  0.0006178426556289196\n",
            "Epoch  70 MSE:  0.000490436446852982\n",
            "Epoch  80 MSE:  0.0004163753765169531\n",
            "Epoch  90 MSE:  0.00039408233715221286\n"
          ],
          "name": "stdout"
        }
      ]
    },
    {
      "cell_type": "code",
      "metadata": {
        "id": "rInBQKoyBQII",
        "colab_type": "code",
        "outputId": "c8c68886-cbcc-45e7-f4d5-39e47b1a5489",
        "colab": {
          "base_uri": "https://localhost:8080/",
          "height": 515
        }
      },
      "source": [
        "plt.plot(y_train_pred.detach().numpy(), label=\"Preds\")\n",
        "plt.plot(y_train.detach().numpy(), label=\"Data\")\n",
        "plt.legend()\n",
        "plt.show()\n",
        "\n",
        "plt.plot(hist, label=\"Training loss\")\n",
        "plt.legend()\n",
        "plt.show()"
      ],
      "execution_count": 39,
      "outputs": [
        {
          "output_type": "display_data",
          "data": {
            "image/png": "[encoded data removed]",
            "text/plain": [
              "<Figure size 432x288 with 1 Axes>"
            ]
          },
          "metadata": {
            "tags": [],
            "needs_background": "light"
          }
        },
        {
          "output_type": "display_data",
          "data": {
            "image/png": "[encoded data removed]",
            "text/plain": [
              "<Figure size 432x288 with 1 Axes>"
            ]
          },
          "metadata": {
            "tags": [],
            "needs_background": "light"
          }
        }
      ]
    },
    {
      "cell_type": "markdown",
      "metadata": {
        "id": "LHU7ltmkWr14",
        "colab_type": "text"
      },
      "source": [
        "## 2.3 Forecasting"
      ]
    },
    {
      "cell_type": "code",
      "metadata": {
        "id": "4VWgaaroBdWc",
        "colab_type": "code",
        "outputId": "0b6df50b-46c4-4a51-f589-056f76c0932b",
        "colab": {
          "base_uri": "https://localhost:8080/",
          "height": 34
        }
      },
      "source": [
        "# make predictions\n",
        "y_test_pred = model(x_test)\n",
        "\n",
        "# invert_transform predictions\n",
        "\n",
        "y_test_pred = scaler.inverse_transform(y_test_pred.detach().numpy())\n",
        "y_test = scaler.inverse_transform(y_test)\n",
        "\n",
        "# calculate RMSE\n",
        "testScore = math.sqrt(mean_squared_error(y_test[:,0], y_test_pred[:,0]))\n",
        "print('Test Score: %.2f RMSE' % (testScore))"
      ],
      "execution_count": 40,
      "outputs": [
        {
          "output_type": "stream",
          "text": [
            "Test Score: 53.49 RMSE\n"
          ],
          "name": "stdout"
        }
      ]
    },
    {
      "cell_type": "code",
      "metadata": {
        "id": "1vvEJLrZ8sOT",
        "colab_type": "code",
        "colab": {
          "base_uri": "https://localhost:8080/",
          "height": 265
        },
        "outputId": "c92c4040-8e98-43f8-96c6-08c762a6d2be"
      },
      "source": [
        "plt.plot(y_test,label = 'True Data')\n",
        "plt.plot(y_test_pred,label = 'Prediction')\n",
        "plt.legend(loc = 'lower left')\n",
        "plt.show()"
      ],
      "execution_count": 41,
      "outputs": [
        {
          "output_type": "display_data",
          "data": {
            "image/png": "[encoded data removed]",
            "text/plain": [
              "<Figure size 432x288 with 1 Axes>"
            ]
          },
          "metadata": {
            "tags": [],
            "needs_background": "light"
          }
        }
      ]
    },
    {
      "cell_type": "markdown",
      "metadata": {
        "id": "adb6mcPED4TW",
        "colab_type": "text"
      },
      "source": [
        "# 3 Stacked LSTM"
      ]
    },
    {
      "cell_type": "code",
      "metadata": {
        "id": "_qTuWrGdD7ms",
        "colab_type": "code",
        "colab": {}
      },
      "source": [
        "train = pd.read_csv(\"/content/drive/My Drive/ML/FDA/HW3/data/SPX500/train.csv\")\n",
        "test = pd.read_csv(\"/content/drive/My Drive/ML/FDA/HW3/data/SPX500/test.csv\")\n",
        "train['ds'] = pd.to_datetime(train['Date'],infer_datetime_format = True)\n",
        "test['ds'] = pd.to_datetime(test['Date'],infer_datetime_format = True)"
      ],
      "execution_count": 0,
      "outputs": []
    },
    {
      "cell_type": "code",
      "metadata": {
        "id": "byezcP1_x7MU",
        "colab_type": "code",
        "colab": {
          "base_uri": "https://localhost:8080/",
          "height": 235
        },
        "outputId": "e025fa5c-b815-45a4-8d6e-d714832359a2"
      },
      "source": [
        "train = train[['ds','Open Price']]\n",
        "test = test[['ds','Open Price']]\n",
        "train = train.set_index(['ds'])\n",
        "test = test.set_index(['ds'])\n",
        "train.head()"
      ],
      "execution_count": 43,
      "outputs": [
        {
          "output_type": "execute_result",
          "data": {
            "text/html": [
              "<div>\n",
              "<style scoped>\n",
              "    .dataframe tbody tr th:only-of-type {\n",
              "        vertical-align: middle;\n",
              "    }\n",
              "\n",
              "    .dataframe tbody tr th {\n",
              "        vertical-align: top;\n",
              "    }\n",
              "\n",
              "    .dataframe thead th {\n",
              "        text-align: right;\n",
              "    }\n",
              "</style>\n",
              "<table border=\"1\" class=\"dataframe\">\n",
              "  <thead>\n",
              "    <tr style=\"text-align: right;\">\n",
              "      <th></th>\n",
              "      <th>Open Price</th>\n",
              "    </tr>\n",
              "    <tr>\n",
              "      <th>ds</th>\n",
              "      <th></th>\n",
              "    </tr>\n",
              "  </thead>\n",
              "  <tbody>\n",
              "    <tr>\n",
              "      <th>2009-01-02</th>\n",
              "      <td>902.99</td>\n",
              "    </tr>\n",
              "    <tr>\n",
              "      <th>2009-01-05</th>\n",
              "      <td>929.17</td>\n",
              "    </tr>\n",
              "    <tr>\n",
              "      <th>2009-01-06</th>\n",
              "      <td>931.17</td>\n",
              "    </tr>\n",
              "    <tr>\n",
              "      <th>2009-01-07</th>\n",
              "      <td>927.45</td>\n",
              "    </tr>\n",
              "    <tr>\n",
              "      <th>2009-01-08</th>\n",
              "      <td>905.73</td>\n",
              "    </tr>\n",
              "  </tbody>\n",
              "</table>\n",
              "</div>"
            ],
            "text/plain": [
              "            Open Price\n",
              "ds                    \n",
              "2009-01-02      902.99\n",
              "2009-01-05      929.17\n",
              "2009-01-06      931.17\n",
              "2009-01-07      927.45\n",
              "2009-01-08      905.73"
            ]
          },
          "metadata": {
            "tags": []
          },
          "execution_count": 43
        }
      ]
    },
    {
      "cell_type": "code",
      "metadata": {
        "id": "A9zUs1c1x7u-",
        "colab_type": "code",
        "colab": {
          "base_uri": "https://localhost:8080/",
          "height": 238
        },
        "outputId": "6e17f980-a66b-4bb2-c4a7-e554ace501e4"
      },
      "source": [
        "scaler  = MinMaxScaler(feature_range=(-1,1))\n",
        "scaler.fit(train['Open Price'].values.reshape(-1,1))\n",
        "train['Open Price'] = scaler.transform(train['Open Price'].values.reshape(-1,1))\n",
        "test['Open Price'] = scaler.transform(test['Open Price'].values.reshape(-1,1))\n",
        "print(train['Open Price'])"
      ],
      "execution_count": 44,
      "outputs": [
        {
          "output_type": "stream",
          "text": [
            "ds\n",
            "2009-01-02   -0.777782\n",
            "2009-01-05   -0.751777\n",
            "2009-01-06   -0.749790\n",
            "2009-01-07   -0.753485\n",
            "2009-01-08   -0.775060\n",
            "                ...   \n",
            "2017-12-22    0.991567\n",
            "2017-12-26    0.986471\n",
            "2017-12-27    0.989461\n",
            "2017-12-28    0.993434\n",
            "2017-12-29    0.996464\n",
            "Name: Open Price, Length: 2264, dtype: float64\n"
          ],
          "name": "stdout"
        }
      ]
    },
    {
      "cell_type": "markdown",
      "metadata": {
        "id": "HV-fKVOt4tlh",
        "colab_type": "text"
      },
      "source": [
        "## 3.1 Data Loading "
      ]
    },
    {
      "cell_type": "code",
      "metadata": {
        "id": "FeKQP1tdyGHP",
        "colab_type": "code",
        "colab": {
          "base_uri": "https://localhost:8080/",
          "height": 85
        },
        "outputId": "aa820b16-1896-4e9d-bc9b-24ea22319f82"
      },
      "source": [
        "def load_data(stock, look_back):\n",
        "    data_raw = stock.values\n",
        "    data = []\n",
        "   \n",
        "    # create look back sequence\n",
        "    for index in range(len(data_raw) - look_back): \n",
        "        data.append(data_raw[index: index + look_back])\n",
        "    data = np.array(data);\n",
        "    x_train = data[:,:-1,:]\n",
        "    y_train = data[:,-1,:]\n",
        "\n",
        "    return [x_train, y_train]\n",
        "look_back = 50 # number of data to look back \n",
        "x_train, y_train = load_data(train, look_back)\n",
        "x_test, y_test = load_data(test,look_back)\n",
        "print('x_train.shape = ',x_train.shape)\n",
        "print('y_train.shape = ',y_train.shape)\n",
        "print('x_test.shape = ',x_test.shape)\n",
        "print('y_test.shape = ',y_test.shape)"
      ],
      "execution_count": 45,
      "outputs": [
        {
          "output_type": "stream",
          "text": [
            "x_train.shape =  (2214, 49, 1)\n",
            "y_train.shape =  (2214, 1)\n",
            "x_test.shape =  (202, 49, 1)\n",
            "y_test.shape =  (202, 1)\n"
          ],
          "name": "stdout"
        }
      ]
    },
    {
      "cell_type": "code",
      "metadata": {
        "id": "XAwA57bnyM3W",
        "colab_type": "code",
        "colab": {}
      },
      "source": [
        "# to Tensors\n",
        "x_train = torch.from_numpy(x_train).type(torch.Tensor)\n",
        "x_test = torch.from_numpy(x_test).type(torch.Tensor)\n",
        "y_train = torch.from_numpy(y_train).type(torch.Tensor)\n",
        "y_test = torch.from_numpy(y_test).type(torch.Tensor)"
      ],
      "execution_count": 0,
      "outputs": []
    },
    {
      "cell_type": "code",
      "metadata": {
        "id": "e2KDJooiyPHY",
        "colab_type": "code",
        "colab": {}
      },
      "source": [
        "n_steps = look_back-1\n",
        "batch_size = y_train.shape[0]\n",
        "num_epochs = 100\n",
        "\n",
        "train_ld = torch.utils.data.TensorDataset(x_train,y_train)\n",
        "test_ld = torch.utils.data.TensorDataset(x_test,y_test)\n",
        "\n",
        "train_loader = torch.utils.data.DataLoader(dataset=train_ld, \n",
        "                                           batch_size=batch_size, \n",
        "                                           shuffle=False)\n",
        "\n",
        "test_loader = torch.utils.data.DataLoader(dataset=test_ld, \n",
        "                                          batch_size=batch_size, \n",
        "                                          shuffle=False)"
      ],
      "execution_count": 0,
      "outputs": []
    },
    {
      "cell_type": "markdown",
      "metadata": {
        "id": "8euLICvO4xmo",
        "colab_type": "text"
      },
      "source": [
        "## 3.2 Model Building"
      ]
    },
    {
      "cell_type": "code",
      "metadata": {
        "id": "fvtciBxbyS63",
        "colab_type": "code",
        "colab": {}
      },
      "source": [
        "input_dim = 1\n",
        "hidden_dim = 32\n",
        "num_layers = 2 \n",
        "output_dim = 1"
      ],
      "execution_count": 0,
      "outputs": []
    },
    {
      "cell_type": "code",
      "metadata": {
        "id": "syjdP0rryZuO",
        "colab_type": "code",
        "colab": {
          "base_uri": "https://localhost:8080/",
          "height": 340
        },
        "outputId": "8cc2c35e-e110-4248-ba5e-50d7ef4a1d56"
      },
      "source": [
        "class LSTM_Stacked(nn.Module):\n",
        "  def __init__(self,input_dim,hidden_dim,num_layers,output_dim):\n",
        "    super(LSTM_Stacked,self).__init__()\n",
        "    self.hidden_dim = hidden_dim\n",
        "    self.num_layers = num_layers \n",
        "    self.lstm = nn.LSTM(input_dim, hidden_dim, num_layers, batch_first=True)\n",
        "    self.fc = nn.Linear(hidden_dim, output_dim)\n",
        "  def forward(self, x):\n",
        "    \n",
        "    h0 = torch.zeros(self.num_layers, x.size(0), self.hidden_dim).requires_grad_()\n",
        "    c0 = torch.zeros(self.num_layers, x.size(0), self.hidden_dim).requires_grad_()\n",
        "    out, (hn, cn) = self.lstm(x, (h0.detach(), c0.detach()))\n",
        "    out = self.fc(out[:, -1, :]) \n",
        "    return out\n",
        "    \n",
        "model = LSTM_Stacked(input_dim=input_dim, hidden_dim=hidden_dim, output_dim=output_dim, num_layers=num_layers)\n",
        "\n",
        "loss_fn = torch.nn.MSELoss(size_average=True)\n",
        "\n",
        "optimiser = torch.optim.Adam(model.parameters(), lr=0.01)\n",
        "print(model)\n",
        "print(len(list(model.parameters())))\n",
        "for i in range(len(list(model.parameters()))):\n",
        "    print(list(model.parameters())[i].size())\n"
      ],
      "execution_count": 49,
      "outputs": [
        {
          "output_type": "stream",
          "text": [
            "LSTM_Stacked(\n",
            "  (lstm): LSTM(1, 32, num_layers=2, batch_first=True)\n",
            "  (fc): Linear(in_features=32, out_features=1, bias=True)\n",
            ")\n",
            "10\n",
            "torch.Size([128, 1])\n",
            "torch.Size([128, 32])\n",
            "torch.Size([128])\n",
            "torch.Size([128])\n",
            "torch.Size([128, 32])\n",
            "torch.Size([128, 32])\n",
            "torch.Size([128])\n",
            "torch.Size([128])\n",
            "torch.Size([1, 32])\n",
            "torch.Size([1])\n"
          ],
          "name": "stdout"
        },
        {
          "output_type": "stream",
          "text": [
            "/usr/local/lib/python3.6/dist-packages/torch/nn/_reduction.py:43: UserWarning:\n",
            "\n",
            "size_average and reduce args will be deprecated, please use reduction='mean' instead.\n",
            "\n"
          ],
          "name": "stderr"
        }
      ]
    },
    {
      "cell_type": "code",
      "metadata": {
        "id": "SV6fLH1LyoII",
        "colab_type": "code",
        "colab": {
          "base_uri": "https://localhost:8080/",
          "height": 170
        },
        "outputId": "85c2b263-251e-4961-e82a-7dace963447a"
      },
      "source": [
        "hist = np.zeros(num_epochs)\n",
        "\n",
        "# Number of steps to unroll\n",
        "seq_dim =look_back-1  \n",
        "\n",
        "for t in range(num_epochs):\n",
        "    # Forward\n",
        "    optimiser.zero_grad()\n",
        "    y_train_pred = model(x_train)\n",
        "\n",
        "    loss = loss_fn(y_train_pred, y_train)\n",
        "    if t % 10 == 0 and t !=0:\n",
        "        print(\"Epoch \", t, \"MSE: \", loss.item())\n",
        "    hist[t] = loss.item()\n",
        "    #backward\n",
        "    loss.backward()\n",
        "    optimiser.step()"
      ],
      "execution_count": 50,
      "outputs": [
        {
          "output_type": "stream",
          "text": [
            "Epoch  10 MSE:  0.018331259489059448\n",
            "Epoch  20 MSE:  0.0031771291978657246\n",
            "Epoch  30 MSE:  0.003948958124965429\n",
            "Epoch  40 MSE:  0.0014593990053981543\n",
            "Epoch  50 MSE:  0.0007191361510194838\n",
            "Epoch  60 MSE:  0.0004865169757977128\n",
            "Epoch  70 MSE:  0.00046840618597343564\n",
            "Epoch  80 MSE:  0.00046540965558961034\n",
            "Epoch  90 MSE:  0.00043945410288870335\n"
          ],
          "name": "stdout"
        }
      ]
    },
    {
      "cell_type": "code",
      "metadata": {
        "id": "vaHfYYF_yq0E",
        "colab_type": "code",
        "colab": {
          "base_uri": "https://localhost:8080/",
          "height": 513
        },
        "outputId": "855ed023-c9bc-4f40-f4fc-d3a5a9720e4b"
      },
      "source": [
        "plt.plot(y_train_pred.detach().numpy(), label=\"Preds\")\n",
        "plt.plot(y_train.detach().numpy(), label=\"Data\")\n",
        "plt.legend()\n",
        "plt.show()\n",
        "\n",
        "plt.plot(hist, label=\"Training loss\")\n",
        "plt.legend()\n",
        "plt.show()"
      ],
      "execution_count": 51,
      "outputs": [
        {
          "output_type": "display_data",
          "data": {
            "image/png": "[encoded data removed]",
            "text/plain": [
              "<Figure size 432x288 with 1 Axes>"
            ]
          },
          "metadata": {
            "tags": [],
            "needs_background": "light"
          }
        },
        {
          "output_type": "display_data",
          "data": {
            "image/png": "[encoded data removed]",
            "text/plain": [
              "<Figure size 432x288 with 1 Axes>"
            ]
          },
          "metadata": {
            "tags": [],
            "needs_background": "light"
          }
        }
      ]
    },
    {
      "cell_type": "markdown",
      "metadata": {
        "id": "MHIIMIwU7ynx",
        "colab_type": "text"
      },
      "source": [
        "## 3.3 Forecasting"
      ]
    },
    {
      "cell_type": "code",
      "metadata": {
        "id": "v6CoIf7gyrUX",
        "colab_type": "code",
        "colab": {
          "base_uri": "https://localhost:8080/",
          "height": 34
        },
        "outputId": "758630e7-724f-4290-d6e4-a6421bac6877"
      },
      "source": [
        "# make predictions\n",
        "y_test_pred = model(x_test)\n",
        "\n",
        "# inverse transform predictions\n",
        "y_test_pred = scaler.inverse_transform(y_test_pred.detach().numpy())\n",
        "y_test = scaler.inverse_transform(y_test)\n",
        "\n",
        "# calculate RMSE\n",
        "testScore = math.sqrt(mean_squared_error(y_test[:,0], y_test_pred[:,0]))\n",
        "print('Test Score: %.2f RMSE' % (testScore))"
      ],
      "execution_count": 52,
      "outputs": [
        {
          "output_type": "stream",
          "text": [
            "Test Score: 46.69 RMSE\n"
          ],
          "name": "stdout"
        }
      ]
    },
    {
      "cell_type": "code",
      "metadata": {
        "id": "DxYGIPERyuEA",
        "colab_type": "code",
        "colab": {
          "base_uri": "https://localhost:8080/",
          "height": 265
        },
        "outputId": "9de4a094-a2ba-4549-acd2-04d9a01d666c"
      },
      "source": [
        "plt.plot(y_test,label = 'True Data')\n",
        "plt.plot(y_test_pred,label = 'Prediction')\n",
        "plt.legend(loc = 'lower left')\n",
        "plt.show()"
      ],
      "execution_count": 53,
      "outputs": [
        {
          "output_type": "display_data",
          "data": {
            "image/png": "[encoded data removed]",
            "text/plain": [
              "<Figure size 432x288 with 1 Axes>"
            ]
          },
          "metadata": {
            "tags": [],
            "needs_background": "light"
          }
        }
      ]
    },
    {
      "cell_type": "code",
      "metadata": {
        "id": "25LvsF6Y79fc",
        "colab_type": "code",
        "colab": {}
      },
      "source": [
        ""
      ],
      "execution_count": 0,
      "outputs": []
    }
  ]
}